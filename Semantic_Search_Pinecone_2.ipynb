{
 "cells": [
  {
   "cell_type": "code",
   "execution_count": 1,
   "metadata": {},
   "outputs": [
    {
     "name": "stderr",
     "output_type": "stream",
     "text": [
      "d:\\Conda\\envs\\356_learn\\Lib\\site-packages\\pinecone\\data\\index.py:1: TqdmWarning: IProgress not found. Please update jupyter and ipywidgets. See https://ipywidgets.readthedocs.io/en/stable/user_install.html\n",
      "  from tqdm.autonotebook import tqdm\n"
     ]
    }
   ],
   "source": [
    "import pandas as pd \n",
    "import pinecone\n",
    "import os \n",
    "from pinecone import Pinecone,ServerlessSpec\n",
    "from dotenv import load_dotenv,find_dotenv\n",
    "from sentence_transformers import SentenceTransformer"
   ]
  },
  {
   "cell_type": "code",
   "execution_count": 2,
   "metadata": {},
   "outputs": [],
   "source": [
    "%load_ext dotenv\n",
    "%dotenv"
   ]
  },
  {
   "cell_type": "code",
   "execution_count": 18,
   "metadata": {},
   "outputs": [],
   "source": [
    "model = SentenceTransformer('all-MiniLM-L6-v2')"
   ]
  },
  {
   "cell_type": "code",
   "execution_count": 4,
   "metadata": {},
   "outputs": [
    {
     "data": {
      "text/html": [
       "<div>\n",
       "<style scoped>\n",
       "    .dataframe tbody tr th:only-of-type {\n",
       "        vertical-align: middle;\n",
       "    }\n",
       "\n",
       "    .dataframe tbody tr th {\n",
       "        vertical-align: top;\n",
       "    }\n",
       "\n",
       "    .dataframe thead th {\n",
       "        text-align: right;\n",
       "    }\n",
       "</style>\n",
       "<table border=\"1\" class=\"dataframe\">\n",
       "  <thead>\n",
       "    <tr style=\"text-align: right;\">\n",
       "      <th></th>\n",
       "      <th>course_id</th>\n",
       "      <th>course_name</th>\n",
       "      <th>course_slug</th>\n",
       "      <th>course_description</th>\n",
       "      <th>course_description_short</th>\n",
       "      <th>course_technology</th>\n",
       "      <th>course_topic</th>\n",
       "      <th>course_instructor_quote</th>\n",
       "      <th>section_id</th>\n",
       "      <th>section_name</th>\n",
       "      <th>section_description</th>\n",
       "    </tr>\n",
       "  </thead>\n",
       "  <tbody>\n",
       "    <tr>\n",
       "      <th>0</th>\n",
       "      <td>2</td>\n",
       "      <td>Introduction to Tableau</td>\n",
       "      <td>tableau</td>\n",
       "      <td>Tableau is now one of the most popular busines...</td>\n",
       "      <td>Teaching you how to tell compelling stories wi...</td>\n",
       "      <td>tableau</td>\n",
       "      <td>data visualization</td>\n",
       "      <td>Data scientists don’t just need to deal with d...</td>\n",
       "      <td>9</td>\n",
       "      <td>Introduction to Tableau</td>\n",
       "      <td>While Tableau is an indispensable tool in the ...</td>\n",
       "    </tr>\n",
       "    <tr>\n",
       "      <th>1</th>\n",
       "      <td>2</td>\n",
       "      <td>Introduction to Tableau</td>\n",
       "      <td>tableau</td>\n",
       "      <td>Tableau is now one of the most popular busines...</td>\n",
       "      <td>Teaching you how to tell compelling stories wi...</td>\n",
       "      <td>tableau</td>\n",
       "      <td>data visualization</td>\n",
       "      <td>Data scientists don’t just need to deal with d...</td>\n",
       "      <td>10</td>\n",
       "      <td>Tableau Functionalities</td>\n",
       "      <td>In this section, you will create your first Ta...</td>\n",
       "    </tr>\n",
       "    <tr>\n",
       "      <th>2</th>\n",
       "      <td>2</td>\n",
       "      <td>Introduction to Tableau</td>\n",
       "      <td>tableau</td>\n",
       "      <td>Tableau is now one of the most popular busines...</td>\n",
       "      <td>Teaching you how to tell compelling stories wi...</td>\n",
       "      <td>tableau</td>\n",
       "      <td>data visualization</td>\n",
       "      <td>Data scientists don’t just need to deal with d...</td>\n",
       "      <td>11</td>\n",
       "      <td>The Tableau Exercise</td>\n",
       "      <td>This section is a practical example that will ...</td>\n",
       "    </tr>\n",
       "    <tr>\n",
       "      <th>3</th>\n",
       "      <td>3</td>\n",
       "      <td>The Complete Data Visualization Course with Py...</td>\n",
       "      <td>data-visualization</td>\n",
       "      <td>The Data Visualization course is designed for ...</td>\n",
       "      <td>Teaching you how to master the art of creating...</td>\n",
       "      <td>python</td>\n",
       "      <td>data visualization</td>\n",
       "      <td>Data visualization is the face of data. Many p...</td>\n",
       "      <td>12</td>\n",
       "      <td>Introduction</td>\n",
       "      <td>In this section, you will learn about the impo...</td>\n",
       "    </tr>\n",
       "    <tr>\n",
       "      <th>4</th>\n",
       "      <td>3</td>\n",
       "      <td>The Complete Data Visualization Course with Py...</td>\n",
       "      <td>data-visualization</td>\n",
       "      <td>The Data Visualization course is designed for ...</td>\n",
       "      <td>Teaching you how to master the art of creating...</td>\n",
       "      <td>python</td>\n",
       "      <td>data visualization</td>\n",
       "      <td>Data visualization is the face of data. Many p...</td>\n",
       "      <td>13</td>\n",
       "      <td>Setting Up the Environments</td>\n",
       "      <td>Here, we set up different environments for the...</td>\n",
       "    </tr>\n",
       "  </tbody>\n",
       "</table>\n",
       "</div>"
      ],
      "text/plain": [
       "   course_id                                        course_name  \\\n",
       "0          2                            Introduction to Tableau   \n",
       "1          2                            Introduction to Tableau   \n",
       "2          2                            Introduction to Tableau   \n",
       "3          3  The Complete Data Visualization Course with Py...   \n",
       "4          3  The Complete Data Visualization Course with Py...   \n",
       "\n",
       "          course_slug                                 course_description  \\\n",
       "0             tableau  Tableau is now one of the most popular busines...   \n",
       "1             tableau  Tableau is now one of the most popular busines...   \n",
       "2             tableau  Tableau is now one of the most popular busines...   \n",
       "3  data-visualization  The Data Visualization course is designed for ...   \n",
       "4  data-visualization  The Data Visualization course is designed for ...   \n",
       "\n",
       "                            course_description_short course_technology  \\\n",
       "0  Teaching you how to tell compelling stories wi...           tableau   \n",
       "1  Teaching you how to tell compelling stories wi...           tableau   \n",
       "2  Teaching you how to tell compelling stories wi...           tableau   \n",
       "3  Teaching you how to master the art of creating...            python   \n",
       "4  Teaching you how to master the art of creating...            python   \n",
       "\n",
       "         course_topic                            course_instructor_quote  \\\n",
       "0  data visualization  Data scientists don’t just need to deal with d...   \n",
       "1  data visualization  Data scientists don’t just need to deal with d...   \n",
       "2  data visualization  Data scientists don’t just need to deal with d...   \n",
       "3  data visualization  Data visualization is the face of data. Many p...   \n",
       "4  data visualization  Data visualization is the face of data. Many p...   \n",
       "\n",
       "   section_id                 section_name  \\\n",
       "0           9      Introduction to Tableau   \n",
       "1          10      Tableau Functionalities   \n",
       "2          11         The Tableau Exercise   \n",
       "3          12                 Introduction   \n",
       "4          13  Setting Up the Environments   \n",
       "\n",
       "                                 section_description  \n",
       "0  While Tableau is an indispensable tool in the ...  \n",
       "1  In this section, you will create your first Ta...  \n",
       "2  This section is a practical example that will ...  \n",
       "3  In this section, you will learn about the impo...  \n",
       "4  Here, we set up different environments for the...  "
      ]
     },
     "execution_count": 4,
     "metadata": {},
     "output_type": "execute_result"
    }
   ],
   "source": [
    "files = pd.read_csv('365 Courses and sections data.csv',encoding='ANSI')\n",
    "files.head()"
   ]
  },
  {
   "cell_type": "code",
   "execution_count": 6,
   "metadata": {},
   "outputs": [],
   "source": [
    "files['unique_id']  = files['course_id'].astype(str) + '-' + files['section_id'].astype(str)"
   ]
  },
  {
   "cell_type": "code",
   "execution_count": 15,
   "metadata": {},
   "outputs": [],
   "source": [
    "files['metadata'] = files.apply(lambda row :\n",
    "    {\n",
    "        'course_name' : row['course_name'],\n",
    "            'section_name' : row['section_name'],\n",
    "        'section_description' : row['section_description'],\n",
    "    },\n",
    "axis=1)"
   ]
  },
  {
   "cell_type": "code",
   "execution_count": 16,
   "metadata": {},
   "outputs": [],
   "source": [
    "def create_embeddings(row):\n",
    "    combined_text = f'''{row['course_name']}'{row['course_technology']}'{row['section_description']}'''\n",
    "    return model.encode(combined_text,show_progress_bar=False)\n"
   ]
  },
  {
   "cell_type": "code",
   "execution_count": 19,
   "metadata": {},
   "outputs": [],
   "source": [
    "files['embedding'] = files.apply(create_embeddings,axis=1)"
   ]
  },
  {
   "cell_type": "code",
   "execution_count": null,
   "metadata": {},
   "outputs": [],
   "source": [
    "api_key = os.environ.get('PINECONE_API_KEY')\n",
    "env = os.environ.get('PINECONE_ENV')\n",
    "\n",
    "pc = Pinecone(api_key=api_key,enviorment = env)\n",
    "\n",
    "#Creating a index \n",
    "pc.create_index(\n",
    "    name='semanticsearchindex2',\n",
    "    dimension= 384,\n",
    "    metric='cosine',\n",
    "    spec=ServerlessSpec(\n",
    "        cloud = 'aws',\n",
    "        region = 'us-east-1'\n",
    "   )\n",
    ")"
   ]
  },
  {
   "cell_type": "code",
   "execution_count": 29,
   "metadata": {},
   "outputs": [
    {
     "name": "stdout",
     "output_type": "stream",
     "text": [
      "Data upserted\n"
     ]
    }
   ],
   "source": [
    "index = pc.Index('semanticsearchindex2')\n",
    "vectors_to_upsert = [(row['unique_id'],row['embedding'].tolist(),row['metadata']) for index ,row in files.iterrows()]\n",
    "index.upsert(vectors = vectors_to_upsert)\n",
    "print(\"Data upserted\")\n"
   ]
  },
  {
   "cell_type": "code",
   "execution_count": 43,
   "metadata": {},
   "outputs": [],
   "source": [
    "#Querying \n",
    "query = 'regression in python'\n",
    "query_embedding = model.encode(query,show_progress_bar=False).tolist()\n",
    "query_result = index.query(\n",
    "    vector=[query_embedding],\n",
    "    top_k=12,\n",
    "    include_metadata=True\n",
    ")\n",
    "\n"
   ]
  },
  {
   "cell_type": "code",
   "execution_count": 44,
   "metadata": {},
   "outputs": [
    {
     "name": "stdout",
     "output_type": "stream",
     "text": [
      "Matched item id 37-369, Score : 0.740024626\n",
      "Course: Machine Learning in Python \n",
      "Section:Linear Regression with sklearn \n",
      "Section Description:While there are many libraries that can compute a regression model, the most numerically stable one is sklearn. It is also the preferred choice of many machine learning professionals. In this section, we implement all we know about regressions in this amazing library.\n",
      "Matched item id 37-368, Score : 0.653421402\n",
      "Course: Machine Learning in Python \n",
      "Section:Linear Regression \n",
      "Section Description:In this part of the course, we will discuss what the course covers, why you need to learn advanced statistics, what’s the differences are with machine learning, and how to get the most out of this training. In this section, you will also expand on what you learned in our statistics training with additional concepts and will apply all the theory in Python. This section serves two purposes: 1) a useful refresher of regression, and 2) a great way to reinforce what you have learned, applying it in practice while coding.\n",
      "Matched item id 36-366, Score : 0.635509193\n",
      "Course: Python for Finance \n",
      "Section:Multivariate Regression Analysis \n",
      "Section Description:While in Section 4 we deal with simple regression analysis, here we will take this technique to the next level. As you can guess, multivariate regression analysis is more advanced, but is also more interesting, as it allows you to deal with more complex financial problems.\n",
      "Matched item id 36-363, Score : 0.628109634\n",
      "Course: Python for Finance \n",
      "Section:Using Regressions for Financial Analysis \n",
      "Section Description:Understanding rates of return and risk is not all there is about finance. Working with regression analysis is a must, and you will see that Python only helps you to be quicker and more precise when doing such estimations.\n",
      "Matched item id 101-704, Score : 0.623585522\n",
      "Course: The Machine Learning Algorithms A-Z \n",
      "Section:Linear Regression \n",
      "Section Description:Linear regression is the most dynamic model out of all we review. It’s an exceptional framework for making predictions and extracting insight into relationships between variables.\n",
      "Matched item id 33-341, Score : 0.561403036\n",
      "Course: Customer Analytics in Python \n",
      "Section:Modeling Purchase Quantity \n",
      "Section Description:We conclude the purchase analytics part of the course with a model for purchase quantity. Here, we’ll use linear regression to determine how many units of our product the customer likes to buy. We’ll examine the effects of promotion on purchase quantity and determine price elasticity of demand.\n",
      "Matched item id 37-371, Score : 0.551208735\n",
      "Course: Machine Learning in Python \n",
      "Section:Logistic Regression \n",
      "Section Description:Data scientists use logistic regressions when the dependent variable is binary (0 and 1, true and false, etc.). This type of data is encountered on a daily basis when working as a data scientist, and here, you will learn how to build a logistic regression, understand tables, interpret the coefficients of a logistic regression, calculate the accuracy of the model, as well as how to test. We will introduce under and overfitting, and will teach you how to test your models.\n",
      "Matched item id 32-321, Score : 0.549218953\n",
      "Course: Deep Learning with TensorFlow 2 \n",
      "Section:Minimal example \n",
      "Section Description:It is time to build your first machine learning algorithm. We will show you how to import the relevant libraries, how to generate random input data for the model to train on, how to create the targets the model will aim at, and how to plot the training data. The mechanics of this model exemplify how all regressions you’ve run in different packages (scikit-learn) or software (Excel) work. This is an iterative method aiming to find the best-fitting line.\n",
      "Matched item id 31-307, Score : 0.545068\n",
      "Course: Deep Learning with TensorFlow \n",
      "Section:Minimal example \n",
      "Section Description:It is time to build your first machine learning algorithm. We will show you how to import the relevant libraries, how to generate random input data for the model to train on, how to create the targets the model will aim at, and how to plot the training data. The mechanics of this model exemplify how all regressions you’ve run in different packages (scikit-learn) or software (Excel) work. This is an iterative method aiming to find the best-fitting line.\n",
      "Matched item id 101-706, Score : 0.545057297\n",
      "Course: The Machine Learning Algorithms A-Z \n",
      "Section:Logistic Regression \n",
      "Section Description:Like linear regression, logistic regression is one of the most powerful and straightforward models.\n",
      "Matched item id 35-357, Score : 0.523315966\n",
      "Course: Introduction to Python \n",
      "Section:Functions \n",
      "Section Description:Python functions are another invaluable tool for programmers. They allow you to carry out pre-defined or specifically-designed operations that manipulate the data you are working with and bring it one step closer to representing a meaningful output.\n",
      "Matched item id 35-353, Score : 0.514822125\n",
      "Course: Introduction to Python \n",
      "Section:Python Variables and Data Types \n",
      "Section Description:This is where you will start coding and learn one of the most fundamental concepts in programming – working with variables.\n"
     ]
    }
   ],
   "source": [
    "score_threshold = 0.2  #Self adjustable\n",
    "for match in  query_result['matches']:\n",
    "    if match['score'] >= score_threshold:\n",
    "        course_details = match.get('metadata',{})\n",
    "        course_name = course_details.get('course_name','N/A')\n",
    "        section_name = course_details.get('section_name','N/A')\n",
    "        section_description = course_details.get('section_description','No description available')\n",
    "        \n",
    "        \n",
    "        print(f\"Matched item id {match['id']}, Score : {match['score']}\")\n",
    "        print(f'Course: {course_name} \\nSection:{section_name} \\nSection Description:{section_description}' )\n",
    "\n",
    "\n"
   ]
  },
  {
   "cell_type": "code",
   "execution_count": null,
   "metadata": {},
   "outputs": [],
   "source": []
  },
  {
   "cell_type": "code",
   "execution_count": null,
   "metadata": {},
   "outputs": [],
   "source": []
  }
 ],
 "metadata": {
  "kernelspec": {
   "display_name": "356_learn",
   "language": "python",
   "name": "python3"
  },
  "language_info": {
   "codemirror_mode": {
    "name": "ipython",
    "version": 3
   },
   "file_extension": ".py",
   "mimetype": "text/x-python",
   "name": "python",
   "nbconvert_exporter": "python",
   "pygments_lexer": "ipython3",
   "version": "3.11.10"
  }
 },
 "nbformat": 4,
 "nbformat_minor": 2
}
