{
 "cells": [
  {
   "cell_type": "code",
   "execution_count": 60,
   "metadata": {},
   "outputs": [],
   "source": [
    "import pandas as pd \n",
    "import pinecone\n",
    "import os \n",
    "from pinecone import Pinecone,ServerlessSpec\n",
    "from dotenv import load_dotenv,find_dotenv\n",
    "from sentence_transformers import SentenceTransformer"
   ]
  },
  {
   "cell_type": "code",
   "execution_count": 61,
   "metadata": {},
   "outputs": [],
   "source": [
    "file = pd.read_csv('365 Courses data.csv',encoding=\"ANSI\")"
   ]
  },
  {
   "cell_type": "code",
   "execution_count": 62,
   "metadata": {},
   "outputs": [
    {
     "data": {
      "text/html": [
       "<div>\n",
       "<style scoped>\n",
       "    .dataframe tbody tr th:only-of-type {\n",
       "        vertical-align: middle;\n",
       "    }\n",
       "\n",
       "    .dataframe tbody tr th {\n",
       "        vertical-align: top;\n",
       "    }\n",
       "\n",
       "    .dataframe thead th {\n",
       "        text-align: right;\n",
       "    }\n",
       "</style>\n",
       "<table border=\"1\" class=\"dataframe\">\n",
       "  <thead>\n",
       "    <tr style=\"text-align: right;\">\n",
       "      <th></th>\n",
       "      <th>course_name</th>\n",
       "      <th>course_slug</th>\n",
       "      <th>course_technology</th>\n",
       "      <th>course_description</th>\n",
       "      <th>course_topic</th>\n",
       "      <th>course_description_short</th>\n",
       "    </tr>\n",
       "  </thead>\n",
       "  <tbody>\n",
       "    <tr>\n",
       "      <th>0</th>\n",
       "      <td>Introduction to Tableau</td>\n",
       "      <td>tableau</td>\n",
       "      <td>tableau</td>\n",
       "      <td>Tableau is now one of the most popular busines...</td>\n",
       "      <td>data visualization</td>\n",
       "      <td>Teaching you how to tell compelling stories wi...</td>\n",
       "    </tr>\n",
       "    <tr>\n",
       "      <th>1</th>\n",
       "      <td>The Complete Data Visualization Course with Py...</td>\n",
       "      <td>data-visualization</td>\n",
       "      <td>python</td>\n",
       "      <td>The Data Visualization course is designed for ...</td>\n",
       "      <td>data visualization</td>\n",
       "      <td>Teaching you how to master the art of creating...</td>\n",
       "    </tr>\n",
       "    <tr>\n",
       "      <th>2</th>\n",
       "      <td>Introduction to R Programming</td>\n",
       "      <td>introduction-to-r-programming</td>\n",
       "      <td>r</td>\n",
       "      <td>R is one of the best programming languages spe...</td>\n",
       "      <td>programming</td>\n",
       "      <td>Providing you with the skills to manipulate, a...</td>\n",
       "    </tr>\n",
       "    <tr>\n",
       "      <th>3</th>\n",
       "      <td>Data Preprocessing with NumPy</td>\n",
       "      <td>data-preprocessing-numpy</td>\n",
       "      <td>python</td>\n",
       "      <td>This course is designed to show you how to wor...</td>\n",
       "      <td>data processing</td>\n",
       "      <td>This course will guide you through one of Pyth...</td>\n",
       "    </tr>\n",
       "    <tr>\n",
       "      <th>4</th>\n",
       "      <td>Introduction to Data and Data Science</td>\n",
       "      <td>intro-to-data-and-data-science</td>\n",
       "      <td>theory</td>\n",
       "      <td>Working with data is an essential part of main...</td>\n",
       "      <td>machine learning</td>\n",
       "      <td>Introducing you to the field of data science a...</td>\n",
       "    </tr>\n",
       "  </tbody>\n",
       "</table>\n",
       "</div>"
      ],
      "text/plain": [
       "                                         course_name  \\\n",
       "0                            Introduction to Tableau   \n",
       "1  The Complete Data Visualization Course with Py...   \n",
       "2                      Introduction to R Programming   \n",
       "3                      Data Preprocessing with NumPy   \n",
       "4              Introduction to Data and Data Science   \n",
       "\n",
       "                      course_slug course_technology  \\\n",
       "0                         tableau           tableau   \n",
       "1              data-visualization            python   \n",
       "2   introduction-to-r-programming                 r   \n",
       "3        data-preprocessing-numpy            python   \n",
       "4  intro-to-data-and-data-science            theory   \n",
       "\n",
       "                                  course_description        course_topic  \\\n",
       "0  Tableau is now one of the most popular busines...  data visualization   \n",
       "1  The Data Visualization course is designed for ...  data visualization   \n",
       "2  R is one of the best programming languages spe...         programming   \n",
       "3  This course is designed to show you how to wor...     data processing   \n",
       "4  Working with data is an essential part of main...    machine learning   \n",
       "\n",
       "                            course_description_short  \n",
       "0  Teaching you how to tell compelling stories wi...  \n",
       "1  Teaching you how to master the art of creating...  \n",
       "2  Providing you with the skills to manipulate, a...  \n",
       "3  This course will guide you through one of Pyth...  \n",
       "4  Introducing you to the field of data science a...  "
      ]
     },
     "execution_count": 62,
     "metadata": {},
     "output_type": "execute_result"
    }
   ],
   "source": [
    "file.head()"
   ]
  },
  {
   "cell_type": "code",
   "execution_count": 63,
   "metadata": {},
   "outputs": [],
   "source": [
    "def create_course_description(row):\n",
    "    return f'''The course name is {row[\"course_name\"]} ,the slug name is {row[\"course_slug\"]} and \n",
    "    the technology is {row[\"course_technology\"]} and the course topic is {row[\"course_topic\"]}'''"
   ]
  },
  {
   "cell_type": "code",
   "execution_count": 64,
   "metadata": {},
   "outputs": [
    {
     "name": "stdout",
     "output_type": "stream",
     "text": [
      "0      The course name is Introduction to Tableau ,th...\n",
      "1      The course name is The Complete Data Visualiza...\n",
      "2      The course name is Introduction to R Programmi...\n",
      "3      The course name is Data Preprocessing with Num...\n",
      "4      The course name is Introduction to Data and Da...\n",
      "5      The course name is Data Cleaning and Preproces...\n",
      "6      The course name is Introduction to Business An...\n",
      "7      The course name is Data Analysis with Excel Pi...\n",
      "8      The course name is SQL ,the slug name is sql a...\n",
      "9      The course name is Credit Risk Modeling in Pyt...\n",
      "10     The course name is Python Programmer Bootcamp ...\n",
      "11     The course name is SQL + Tableau + Python ,the...\n",
      "12     The course name is Introduction to Jupyter ,th...\n",
      "13     The course name is Statistics ,the slug name i...\n",
      "14     The course name is Mathematics ,the slug name ...\n",
      "15     The course name is Introduction to Excel ,the ...\n",
      "16     The course name is Probability ,the slug name ...\n",
      "17     The course name is Starting a Career in Data S...\n",
      "18     The course name is SQL + Tableau ,the slug nam...\n",
      "19     The course name is Time Series Analysis with P...\n",
      "20     The course name is Power BI ,the slug name is ...\n",
      "21     The course name is Product Management for AI &...\n",
      "22     The course name is Git and GitHub ,the slug na...\n",
      "23     The course name is Deep Learning with TensorFl...\n",
      "24     The course name is Deep Learning with TensorFl...\n",
      "25     The course name is Customer Analytics in Pytho...\n",
      "26     The course name is Web Scraping and API Fundam...\n",
      "27     The course name is Introduction to Python ,the...\n",
      "28     The course name is Python for Finance ,the slu...\n",
      "29     The course name is Machine Learning in Python ...\n",
      "30     The course name is Advanced Microsoft Excel ,t...\n",
      "31     The course name is Convolutional Neural Networ...\n",
      "32     The course name is Data Strategy ,the slug nam...\n",
      "33     The course name is Fashion Analytics with Tabl...\n",
      "34     The course name is Dates and Times in Python ,...\n",
      "35     The course name is SQL for Data Science Interv...\n",
      "36     The course name is Data Literacy ,the slug nam...\n",
      "37     The course name is AI Applications for Busines...\n",
      "38     The course name is Linear Algebra and Feature ...\n",
      "39     The course name is Machine Learning with Naive...\n",
      "40     The course name is Machine Learning in Excel ,...\n",
      "41     The course name is Machine Learning with Suppo...\n",
      "42     The course name is A/B Testing in Python ,the ...\n",
      "43     The course name is Machine Learning with Decis...\n",
      "44     The course name is Machine Learning with K-Nea...\n",
      "45     The course name is Machine Learning with Ridge...\n",
      "46     The course name is Data-Driven Business Growth...\n",
      "47     The course name is Corporate Strategy ,the slu...\n",
      "48     The course name is Marketing Strategy ,the slu...\n",
      "49     The course name is Negotiation ,the slug name ...\n",
      "50     The course name is Management ,the slug name i...\n",
      "51     The course name is Persuasion and Influence ,t...\n",
      "52     The course name is Excel for Project Managemen...\n",
      "53     The course name is Agile and Scrum Project Man...\n",
      "54     The course name is Project Management ,the slu...\n",
      "55     The course name is Blockchain for Business ,th...\n",
      "56     The course name is How to Think Like a Data Sc...\n",
      "57     The course name is Power Query and Data Modeli...\n",
      "58     The course name is Introduction to DAX ,the sl...\n",
      "59     The course name is Building Business Reports U...\n",
      "60     The course name is The Machine Learning Proces...\n",
      "61     The course name is The Machine Learning Proces...\n",
      "62     The course name is Working with Text Files in ...\n",
      "63     The course name is Intermediate Python Program...\n",
      "64     The course name is Advanced SQL ,the slug name...\n",
      "65     The course name is FP&A: Building a Company's ...\n",
      "66     The course name is Fixed Income Investments ,t...\n",
      "67     The course name is Accounting and Financial St...\n",
      "68     The course name is Fundamentals of Financial R...\n",
      "69     The course name is Building a 3-Statement Mode...\n",
      "70     The course name is Financial Ratio Analysis  ,...\n",
      "71     The course name is Corporate Finance  ,the slu...\n",
      "72     The course name is Fundamentals of Financial M...\n",
      "73     The course name is Introduction to Industry an...\n",
      "74     The course name is Fundamentals of Equity Valu...\n",
      "75     The course name is Introduction to Equity Secu...\n",
      "76     The course name is Alternative Investments ,th...\n",
      "77     The course name is Advanced Financial Reportin...\n",
      "78     The course name is Advanced Financial Reportin...\n",
      "79     The course name is Macroeconomics ,the slug na...\n",
      "80     The course name is Who Does What in Finance ,t...\n",
      "81     The course name is Investment Banking ,the slu...\n",
      "82     The course name is Discounted Cash Flow Valuat...\n",
      "83     The course name is Multiples Valuation ,the sl...\n",
      "84     The course name is LBO Modeling in Excel ,the ...\n",
      "85     The course name is Math for Finance ,the slug ...\n",
      "86     The course name is Derivatives ,the slug name ...\n",
      "87     The course name is Portfolio Management ,the s...\n",
      "88     The course name is Technical Analysis ,the slu...\n",
      "89     The course name is The Machine Learning Algori...\n",
      "90     The course name is Customer Churn Analysis wit...\n",
      "91     The course name is Machine Learning Deep Dive:...\n",
      "92     The course name is Customer Engagement Analysi...\n",
      "93     The course name is Advanced SQL for Data Engin...\n",
      "94     The course name is Communication and Presentat...\n",
      "95     The course name is Intro to PowerPoint ,the sl...\n",
      "96     The course name is Intro to ChatGPT and Genera...\n",
      "97     The course name is Data Analysis in Power BI w...\n",
      "98     The course name is Mastering Key Performance I...\n",
      "99     The course name is Sign-Up Flow Optimization A...\n",
      "100    The course name is Python for Social Media Ana...\n",
      "101    The course name is Intro to NLP for AI ,the sl...\n",
      "102    The course name is Data Analysis with ChatGPT ...\n",
      "103    The course name is ChatGPT for Data Science ,t...\n",
      "104    The course name is Intro to LLMs ,the slug nam...\n",
      "105    The course name is Growth Analysis with SQL, P...\n",
      "Name: coloumn_description_new, dtype: object\n"
     ]
    }
   ],
   "source": [
    "pd.set_option('display.max_rows',106)\n",
    "file['coloumn_description_new'] = file.apply(create_course_description,axis=1)\n",
    "print(file['coloumn_description_new'])"
   ]
  },
  {
   "cell_type": "code",
   "execution_count": 65,
   "metadata": {},
   "outputs": [
    {
     "name": "stdout",
     "output_type": "stream",
     "text": [
      "The dotenv extension is already loaded. To reload it, use:\n",
      "  %reload_ext dotenv\n"
     ]
    }
   ],
   "source": [
    "%load_ext dotenv\n",
    "%dotenv"
   ]
  },
  {
   "cell_type": "code",
   "execution_count": 66,
   "metadata": {},
   "outputs": [
    {
     "data": {
      "text/plain": [
       "True"
      ]
     },
     "execution_count": 66,
     "metadata": {},
     "output_type": "execute_result"
    }
   ],
   "source": [
    "load_dotenv(find_dotenv(),override=True)"
   ]
  },
  {
   "cell_type": "code",
   "execution_count": 67,
   "metadata": {},
   "outputs": [],
   "source": [
    "api_key = os.environ.get('PINECONE_API_KEY')\n",
    "env = os.environ.get('PINECONE_ENV')\n",
    "\n",
    "pc = Pinecone(api_key=api_key,enviorment = env)"
   ]
  },
  {
   "cell_type": "code",
   "execution_count": 68,
   "metadata": {},
   "outputs": [],
   "source": [
    "#Creating a index \n",
    "pc.create_index(\n",
    "    name='semanticsearchindex',\n",
    "    dimension= 768,\n",
    "    metric='cosine',\n",
    "    spec=ServerlessSpec(\n",
    "        cloud = 'aws',\n",
    "        region = 'us-east-1'\n",
    "   )\n",
    ")"
   ]
  },
  {
   "cell_type": "code",
   "execution_count": 69,
   "metadata": {},
   "outputs": [],
   "source": [
    "index = pc.Index('semanticsearchindex')"
   ]
  },
  {
   "cell_type": "code",
   "execution_count": 70,
   "metadata": {},
   "outputs": [],
   "source": [
    "#Embedding the data \n",
    "model = SentenceTransformer('multi-qa-mpnet-base-cos-v1')"
   ]
  },
  {
   "cell_type": "code",
   "execution_count": 71,
   "metadata": {},
   "outputs": [],
   "source": [
    "def create_embedding(row):\n",
    "    combined_text = ''.join([str(row[feild] for feild in ['course_description','coloumn_description_new','course_description_short'])])\n",
    "    embedding = model.encode(combined_text,show_progress_bar=False)\n",
    "    return embedding"
   ]
  },
  {
   "cell_type": "code",
   "execution_count": 72,
   "metadata": {},
   "outputs": [],
   "source": [
    "#Creating new Columns \n",
    "file['embeddings'] = file.apply(create_embedding,axis =1)"
   ]
  },
  {
   "cell_type": "code",
   "execution_count": 73,
   "metadata": {},
   "outputs": [
    {
     "name": "stdout",
     "output_type": "stream",
     "text": [
      "Data upserted Sucessfully\n"
     ]
    }
   ],
   "source": [
    "vectors_to_upsert = [(str(row['course_name']),row['embeddings'].tolist())for _,row in file.iterrows()]\n",
    "index.upsert(vectors=vectors_to_upsert)\n",
    "\n",
    "print(\"Data upserted Sucessfully\")"
   ]
  },
  {
   "cell_type": "code",
   "execution_count": 74,
   "metadata": {},
   "outputs": [],
   "source": [
    "#Semantic Search \n",
    "query = 'cluestring'\n",
    "query_embedding = model.encode(query,show_progress_bar=False).tolist()\n"
   ]
  },
  {
   "cell_type": "code",
   "execution_count": 75,
   "metadata": {},
   "outputs": [],
   "source": [
    "query_result = index.query(\n",
    "    vector=[query_embedding],\n",
    "    top_k=12,\n",
    "    include_values=True\n",
    ")    "
   ]
  },
  {
   "cell_type": "code",
   "execution_count": 51,
   "metadata": {},
   "outputs": [
    {
     "name": "stdout",
     "output_type": "stream",
     "text": [
      "matched item id -:Introduction to R Programming, Score : 0.0349951349\n",
      "matched item id -:Data Preprocessing with NumPy, Score : 0.0349951349\n",
      "matched item id -:Introduction to Data and Data Science, Score : 0.0349951349\n",
      "matched item id -:Data Cleaning and Preprocessing with pandas, Score : 0.0349951349\n",
      "matched item id -:Introduction to Business Analytics, Score : 0.0349951349\n",
      "matched item id -:Data Analysis with Excel Pivot Tables, Score : 0.0349951349\n",
      "matched item id -:SQL, Score : 0.0349951349\n",
      "matched item id -:Credit Risk Modeling in Python, Score : 0.0349951349\n",
      "matched item id -:Python Programmer Bootcamp, Score : 0.0349951349\n",
      "matched item id -:SQL + Tableau + Python, Score : 0.0349951349\n",
      "matched item id -:Introduction to Tableau, Score : 0.0349951349\n",
      "matched item id -:The Complete Data Visualization Course with Python, R, Tableau, and Excel, Score : 0.0349951349\n"
     ]
    }
   ],
   "source": [
    "for match in query_result['matches']:\n",
    "    if match['score'] >= 0.03:    \n",
    "        print(f\"matched item id -:{(match['id'])}, Score : {match['score']}\")"
   ]
  },
  {
   "cell_type": "code",
   "execution_count": null,
   "metadata": {},
   "outputs": [],
   "source": []
  }
 ],
 "metadata": {
  "kernelspec": {
   "display_name": "356_learn",
   "language": "python",
   "name": "python3"
  },
  "language_info": {
   "codemirror_mode": {
    "name": "ipython",
    "version": 3
   },
   "file_extension": ".py",
   "mimetype": "text/x-python",
   "name": "python",
   "nbconvert_exporter": "python",
   "pygments_lexer": "ipython3",
   "version": "3.11.10"
  }
 },
 "nbformat": 4,
 "nbformat_minor": 2
}
